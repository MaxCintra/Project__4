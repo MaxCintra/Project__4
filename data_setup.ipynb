{
 "cells": [
  {
   "cell_type": "code",
   "execution_count": 3,
   "id": "726814b8",
   "metadata": {},
   "outputs": [],
   "source": [
    "import pandas as pd\n",
    "\n",
    "# Read in all csvs\n",
    "file1 = pd.read_csv('Data/2019_combine.csv')\n",
    "file2 = pd.read_csv('Data/2020_combine.csv')\n",
    "file3 = pd.read_csv('Data/2021_combine.csv')\n",
    "file4 = pd.read_csv('Data/2022_combine.csv')\n",
    "file5 = pd.read_csv('Data/2019_stats.csv')\n",
    "file6 = pd.read_csv('Data/2020_stats.csv')\n",
    "file7 = pd.read_csv('Data/2021_stats.csv')\n",
    "file8 = pd.read_csv('Data/2022_stats.csv')\n",
    "file9 = pd.read_csv('Data/2018_combine.csv')\n",
    "file10 = pd.read_csv('Data/2018_stats.csv')\n",
    "\n",
    "# Merge two DataFrames for each year and merge based on the \"Player\" column\n",
    "merged_data_2018 = pd.merge(file9, file10, on='Player', how='inner')\n",
    "merged_data_2019 = pd.merge(file1, file5, on='Player', how='inner')\n",
    "merged_data_2020 = pd.merge(file2, file6, on='Player', how='inner')\n",
    "merged_data_2021 = pd.merge(file3, file7, on='Player', how='inner')\n",
    "merged_data_2022 = pd.merge(file4, file8, on='Player', how='inner')\n",
    "\n",
    "\n",
    "# Save as combined csvs\n",
    "##merged_data_2018.to_csv('Data/2018_combined_data.csv', index=False)\n",
    "##merged_data_2019.to_csv('Data/2019_combined_data.csv', index=False)\n",
    "##merged_data_2020.to_csv('Data/2020_combined_data.csv', index=False)\n",
    "##merged_data_2021.to_csv('Data/2021_combined_data.csv', index=False)"
   ]
  },
  {
   "cell_type": "code",
   "execution_count": 4,
   "id": "dfa7003b",
   "metadata": {},
   "outputs": [],
   "source": [
    "master_combined_data = pd.concat([merged_data_2019, merged_data_2020, merged_data_2021, merged_data_2018])\n",
    "\n",
    "master_combined_data = master_combined_data.rename(columns={\n",
    "    'AP1': '1st_Team_AllPro',\n",
    "    'PB': 'Pro_Bowl',\n",
    "    'St': 'Years_As_Starter',\n",
    "    'wAV': 'Weighted_Aprox_Value',\n",
    "    'Cmp': 'Pass_Completed', \n",
    "    'Att': 'Pass_Attempts', \n",
    "    'Yds': 'Pass_Yards', \n",
    "    'TD': 'Pass_TDs', \n",
    "    'Int': 'Interceptions_Thrown', \n",
    "    'Att.1': 'Rush_Attempts', \n",
    "    'Yds.1': 'Rush_Yards', \n",
    "    'TD.1': 'Rush_TDs', \n",
    "    'Rec': 'Receptions', \n",
    "    'Yds.2': 'Receiving_Yards', \n",
    "    \"TD.2\": 'Receiving_Touchdowns', \n",
    "    'Solo': 'Solo_Tackles', \n",
    "    'Int.1': 'Interceptions', \n",
    "    'Sk': 'Sack'})\n",
    "# Save the master combined DataFrame as a CSV file\n",
    "##master_combined_data.to_csv('Data/master_combined_data.csv', index=False)"
   ]
  },
  {
   "cell_type": "code",
   "execution_count": 5,
   "id": "7363f0e4",
   "metadata": {},
   "outputs": [],
   "source": [
    "merged_data_2022 = merged_data_2022.rename(columns={\n",
    "    'AP1': '1st_Team_AllPro',\n",
    "    'PB': 'Pro_Bowl',\n",
    "    'St': 'Years_As_Starter',\n",
    "    'wAV': 'Weighted_Aprox_Value',\n",
    "    'Cmp': 'Pass_Completed', \n",
    "    'Att': 'Pass_Attempts', \n",
    "    'Yds': 'Pass_Yards', \n",
    "    'TD': 'Pass_TDs', \n",
    "    'Int': 'Interceptions_Thrown', \n",
    "    'Att.1': 'Rush_Attempts', \n",
    "    'Yds.1': 'Rush_Yards', \n",
    "    'TD.1': 'Rush_TDs', \n",
    "    'Rec': 'Receptions', \n",
    "    'Yds.2': 'Receiving_Yards', \n",
    "    \"TD.2\": 'Receiving_Touchdowns', \n",
    "    'Solo': 'Solo_Tackles', \n",
    "    'Int.1': 'Interceptions', \n",
    "    'Sk': 'Sack'})\n",
    "# Save the test DataFrame as a CSV file\n",
    "##merged_data_2022.to_csv('Data/2022_combined_data.csv', index=False)"
   ]
  },
  {
   "cell_type": "code",
   "execution_count": null,
   "id": "37d48391",
   "metadata": {},
   "outputs": [],
   "source": []
  },
  {
   "cell_type": "code",
   "execution_count": null,
   "id": "eace0981",
   "metadata": {},
   "outputs": [],
   "source": []
  },
  {
   "cell_type": "code",
   "execution_count": null,
   "id": "2fd6eb36",
   "metadata": {},
   "outputs": [],
   "source": []
  },
  {
   "cell_type": "code",
   "execution_count": null,
   "id": "2f5ccd64",
   "metadata": {},
   "outputs": [],
   "source": []
  },
  {
   "cell_type": "code",
   "execution_count": null,
   "id": "e74c6299",
   "metadata": {},
   "outputs": [],
   "source": []
  }
 ],
 "metadata": {
  "kernelspec": {
   "display_name": "Python 3 (ipykernel)",
   "language": "python",
   "name": "python3"
  },
  "language_info": {
   "codemirror_mode": {
    "name": "ipython",
    "version": 3
   },
   "file_extension": ".py",
   "mimetype": "text/x-python",
   "name": "python",
   "nbconvert_exporter": "python",
   "pygments_lexer": "ipython3",
   "version": "3.10.10"
  }
 },
 "nbformat": 4,
 "nbformat_minor": 5
}
